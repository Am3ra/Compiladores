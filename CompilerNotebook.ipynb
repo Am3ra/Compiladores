{
 "metadata": {
  "language_info": {
   "codemirror_mode": {
    "name": "ipython",
    "version": 3
   },
   "file_extension": ".py",
   "mimetype": "text/x-python",
   "name": "python",
   "nbconvert_exporter": "python",
   "pygments_lexer": "ipython3",
   "version": "3.8.5-final"
  },
  "orig_nbformat": 2,
  "kernelspec": {
   "name": "python3",
   "display_name": "Python 3.8.5 32-bit",
   "metadata": {
    "interpreter": {
     "hash": "2b7816b278fa7efb40df7f81b73bd4da3d56af579cc07d8f5e63defde48b2bbc"
    }
   }
  }
 },
 "nbformat": 4,
 "nbformat_minor": 2,
 "cells": [
  {
   "source": [
    "# How to interpret '2+2'?"
   ],
   "cell_type": "markdown",
   "metadata": {}
  },
  {
   "cell_type": "code",
   "execution_count": 1,
   "metadata": {},
   "outputs": [],
   "source": [
    "def interpreter(input):\n",
    "    return 2+2"
   ]
  },
  {
   "source": [],
   "cell_type": "markdown",
   "metadata": {}
  },
  {
   "cell_type": "code",
   "execution_count": 2,
   "metadata": {},
   "outputs": [
    {
     "output_type": "execute_result",
     "data": {
      "text/plain": [
       "4"
      ]
     },
     "metadata": {},
     "execution_count": 2
    }
   ],
   "source": [
    "interpreter('2+2')"
   ]
  },
  {
   "cell_type": "code",
   "execution_count": 12,
   "metadata": {},
   "outputs": [],
   "source": [
    "def interpreter(input):\n",
    "    left = int(input[0])\n",
    "    right = int(input[2])\n",
    "    return left+right"
   ]
  },
  {
   "cell_type": "code",
   "execution_count": 8,
   "metadata": {},
   "outputs": [
    {
     "output_type": "execute_result",
     "data": {
      "text/plain": [
       "7"
      ]
     },
     "metadata": {},
     "execution_count": 8
    }
   ],
   "source": [
    "interpreter(\"4+3\")"
   ]
  },
  {
   "cell_type": "code",
   "execution_count": 19,
   "metadata": {},
   "outputs": [],
   "source": [
    "def interpreter(input):\n",
    "    left = int(input[0])\n",
    "    operator = input[1]\n",
    "    right = int(input[2])\n",
    "\n",
    "    if operator == '+':\n",
    "        return left+right\n",
    "    elif operator == '-':\n",
    "        return left-right\n",
    "\n"
   ]
  },
  {
   "cell_type": "code",
   "execution_count": 20,
   "metadata": {},
   "outputs": [
    {
     "output_type": "execute_result",
     "data": {
      "text/plain": [
       "7"
      ]
     },
     "metadata": {},
     "execution_count": 20
    }
   ],
   "source": [
    "if interpreter(\"9-2\") != 7:\n",
    "    print(\"Error!\")\n",
    "interpreter(\"9-2\")"
   ]
  },
  {
   "source": [
    "# How to interpret '24+3'?!"
   ],
   "cell_type": "markdown",
   "metadata": {}
  },
  {
   "cell_type": "code",
   "execution_count": 51,
   "metadata": {},
   "outputs": [],
   "source": [
    "class Interpreter(object):\n",
    "    def __init__(self, input):\n",
    "        self.input = input\n",
    "        self.pos = 0\n",
    "        self.current_char = self.input[self.pos]\n",
    "\n",
    "\n",
    "    def advance(self):\n",
    "        self.pos+=1\n",
    "        if self.pos > len(self.input) - 1:\n",
    "          self.current_char = None\n",
    "        else:  \n",
    "            self.current_char = self.input[self.pos]\n",
    "\n",
    "\n",
    "    def interpret(self):\n",
    "        \n",
    "        # left = int(self.input[0])\n",
    "        left = self.integer()\n",
    "        operator = self.current_char\n",
    "        self.advance()\n",
    "        right = self.integer()\n",
    "        # operator = input[1]\n",
    "        # right = int(input[2])\n",
    "\n",
    "        if operator == '+':\n",
    "            return left+right\n",
    "        elif operator == '-':\n",
    "            return left-right\n",
    "        elif operator == '*':\n",
    "            return left*right\n",
    "        elif operator == '/':\n",
    "            return left/right\n",
    "\n",
    "    def integer(self):\n",
    "        result = \"\"\n",
    "\n",
    "        while self.current_char is not None and self.current_char.isdigit():\n",
    "            result += self.current_char\n",
    "            self.advance()     \n",
    "\n",
    "        return int(result)\n",
    "    "
   ]
  },
  {
   "cell_type": "code",
   "execution_count": 56,
   "metadata": {},
   "outputs": [
    {
     "output_type": "execute_result",
     "data": {
      "text/plain": [
       "824472"
      ]
     },
     "metadata": {},
     "execution_count": 56
    }
   ],
   "source": [
    "interpreter = Interpreter(\"24*34353\")\n",
    "interpreter.interpret()"
   ]
  },
  {
   "cell_type": "code",
   "execution_count": 108,
   "metadata": {},
   "outputs": [],
   "source": [
    "INTEGER, PLUS, MINUS, TIMES, DIVIDED, DECIMAL = \"INTEGER\",\"PLUS\",\"MINUS\",\"TIMES\",\"DIVIDED\", \"DECIMAL\"\n",
    "\n",
    "class Token(object):\n",
    "    def __init__(self,type,value):\n",
    "        self.type = type\n",
    "        self.value = value\n",
    "    \n",
    "    def __str__(self):\n",
    "        return 'Token({type}, {value})'.format(\n",
    "            type=self.type,\n",
    "            value=repr(self.value)\n",
    "        )\n",
    "\n",
    "    def __repr__(self):\n",
    "        return self.__str__()\n",
    "\n",
    "class Interpreter(object):\n",
    "    def __init__(self, input):\n",
    "        self.input = input\n",
    "        self.pos = 0\n",
    "        self.current_char = self.input[self.pos]\n",
    "\n",
    "\n",
    "    def advance(self):\n",
    "        self.pos+=1\n",
    "        if self.pos > len(self.input) - 1:\n",
    "          self.current_char = None\n",
    "        else:  \n",
    "            self.current_char = self.input[self.pos]\n",
    "\n",
    "    def get_next_token(self):\n",
    "        while self.current_char is not None:\n",
    "            if self.current_char.isdigit():\n",
    "                return self.integer()\n",
    "            elif self.current_char == '+':\n",
    "                self.advance()\n",
    "                return Token(PLUS, '+')\n",
    "            elif self.current_char == '-':\n",
    "                self.advance()\n",
    "                return Token(MINUS, '-')\n",
    "            elif self.current_char.isspace():\n",
    "                self.advance()\n",
    "\n",
    "    def interpret(self):\n",
    "        \n",
    "        # left = int(self.input[0])\n",
    "        left = self.get_next_token()\n",
    "        operator = self.get_next_token()\n",
    "        right = self.get_next_token()\n",
    "        # operator = input[1]\n",
    "        # right = int(input[2])\n",
    "\n",
    "        if operator.type == PLUS:\n",
    "            return left.value+right.value\n",
    "        elif operator.type == MINUS :\n",
    "            return left.value-right.value\n",
    "        elif operator.type == TIMES:\n",
    "            return left.value*right.value\n",
    "        elif operator.type == DIVIDED:\n",
    "            return left.value/right.value\n",
    "\n",
    "    def integer(self):\n",
    "        result = \"\"\n",
    "\n",
    "        while self.current_char is not None and self.current_char.isdigit():\n",
    "            result += self.current_char\n",
    "            self.advance()\n",
    "            if self.current_char == '.':\n",
    "                return self.decimal(result)     \n",
    "\n",
    "        return Token(INTEGER,int(result))\n",
    "\n",
    "    def decimal(self, result):\n",
    "        self.advance()\n",
    "        result += \".\"\n",
    "        while self.current_char is not None and self.current_char.isdigit():\n",
    "            result += self.current_char\n",
    "            self.advance()\n",
    "        print(result)\n",
    "        return Token(DECIMAL,float(result))"
   ]
  },
  {
   "source": [
    "Grammar:\n",
    "\n",
    "EXPR -> NUMBER OPERATOR NUMBER\n",
    "\n",
    "NUMBER -> DECIMAL  | INTEGER\n",
    "\n",
    "INTEGER -> DIGIT+ \n",
    "\n",
    "DECIMAL -> DIGIT\\+ POINT DIGIT\\+\n",
    "\n",
    "DIGIT -> 0-9\n",
    "\n",
    "POINT -> '.'\n",
    "\n",
    "OPERATOR -> '+' \\| '-' \\| '*' \\| '/'  "
   ],
   "cell_type": "markdown",
   "metadata": {}
  },
  {
   "cell_type": "code",
   "execution_count": 111,
   "metadata": {},
   "outputs": [
    {
     "output_type": "stream",
     "name": "stdout",
     "text": [
      "123.123\n"
     ]
    },
    {
     "output_type": "execute_result",
     "data": {
      "text/plain": [
       "89.123"
      ]
     },
     "metadata": {},
     "execution_count": 111
    }
   ],
   "source": [
    "interpreter = Interpreter(\"123.123 - 34\")\n",
    "interpreter.interpret()\n"
   ]
  },
  {
   "cell_type": "code",
   "execution_count": 91,
   "metadata": {},
   "outputs": [
    {
     "output_type": "execute_result",
     "data": {
      "text/plain": [
       "(Token(INTEGER, 24), '+')"
      ]
     },
     "metadata": {},
     "execution_count": 91
    }
   ],
   "source": [
    "interpreter.get_next_token(), interpreter.current_char"
   ]
  },
  {
   "cell_type": "code",
   "execution_count": null,
   "metadata": {},
   "outputs": [],
   "source": []
  },
  {
   "cell_type": "code",
   "execution_count": null,
   "metadata": {},
   "outputs": [],
   "source": []
  }
 ]
}